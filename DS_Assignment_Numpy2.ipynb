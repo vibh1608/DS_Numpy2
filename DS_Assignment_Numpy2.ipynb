{
 "cells": [
  {
   "cell_type": "code",
   "execution_count": 13,
   "metadata": {},
   "outputs": [
    {
     "name": "stdout",
     "output_type": "stream",
     "text": [
      "Enter the window size: 3\n",
      "Input  [3, 5, 7, 2, 8, 10, 11, 65, 72, 81, 99, 100, 150]\n",
      "y1  5.0\n",
      "y2   5.666666666666667\n",
      "y3    8.333333333333334\n",
      "y4     11.666666666666666\n",
      "y5      15.333333333333334\n",
      "y6       37.0\n",
      "y7        61.0\n",
      "y8         88.0\n",
      "y9          121.0\n",
      "y10           154.33333333333334\n",
      "y11            204.33333333333334\n"
     ]
    }
   ],
   "source": [
    "#importing numpy library\n",
    "import numpy as np\n",
    "\n",
    "#initialising input vector\n",
    "x = [3, 5, 7, 2, 8, 10, 11, 65, 72, 81, 99, 100, 150]\n",
    "#taking window size k as input from user\n",
    "k = int(input(\"Enter the window size: \"))\n",
    "#initialising average list variable\n",
    "Avg = []\n",
    "#running loop to calculate the average\n",
    "for i in range(1,len(x)-k+2):\n",
    "    sum = 0\n",
    "    for j in range(i+k-1):\n",
    "        sum = sum + x[j]\n",
    "    Avg.append(sum/k)       \n",
    "#printing the moving average array\n",
    "print(\"Input \",x)\n",
    "for i in range(0,len(Avg)):\n",
    "    print(\"y{}\".format(i+1),end=' ')\n",
    "    for j in range(0,i+1):\n",
    "        print(' ',end='')\n",
    "    print(Avg[i],end='')\n",
    "    print('')"
   ]
  }
 ],
 "metadata": {
  "kernelspec": {
   "display_name": "Python 3",
   "language": "python",
   "name": "python3"
  },
  "language_info": {
   "codemirror_mode": {
    "name": "ipython",
    "version": 3
   },
   "file_extension": ".py",
   "mimetype": "text/x-python",
   "name": "python",
   "nbconvert_exporter": "python",
   "pygments_lexer": "ipython3",
   "version": "3.7.0"
  }
 },
 "nbformat": 4,
 "nbformat_minor": 2
}
